{
 "cells": [
  {
   "cell_type": "code",
   "execution_count": 1,
   "id": "178b2337-e238-4e08-a916-2ba8536f1d69",
   "metadata": {},
   "outputs": [],
   "source": [
    "import os\n",
    "import torch\n",
    "from torch.utils.data import Dataset, DataLoader\n",
    "from torchvision import transforms\n",
    "import rasterio\n",
    "import numpy as np\n",
    "import torch.nn as nn\n",
    "import torch.optim as optim\n",
    "from skimage.transform import resize\n",
    "from tqdm import tqdm\n",
    "import pandas as pd\n",
    "import torchvision.transforms as transforms\n",
    "import matplotlib.pyplot as plt\n",
    "import geopandas as gpd\n",
    "from shapely.geometry import mapping\n",
    "from rasterio.features import geometry_mask"
   ]
  },
  {
   "cell_type": "code",
   "execution_count": 2,
   "id": "a5e2982b-ce3f-4e8f-be08-746f26cd4a57",
   "metadata": {},
   "outputs": [
    {
     "name": "stdout",
     "output_type": "stream",
     "text": [
      "Using device: cuda\n"
     ]
    }
   ],
   "source": [
    "device = torch.device(\"cuda\" if torch.cuda.is_available() else \"cpu\")\n",
    "print(f\"Using device: {device}\")\n",
    "\n",
    "tif_path = \"G:/16_ECMWF/7_climate_10_520_400/1_tem/2017/tem_2017_01_01.tif\"\n",
    "with rasterio.open(tif_path) as src:\n",
    "        image_data = src.read(1)  # 读取第一个波段\n",
    "        transform = src.transform\n",
    "        crs = src.crs\n",
    "        bounds = src.bounds\n",
    "        height, width = src.height, src.width\n",
    "        profile = src.profile  # 获取文件元数据以便后续导出\n",
    "    \n",
    "shp_path = \"C:/Users/Administrator/Desktop/边界/九大农业区/Agr_qu.shp\"\n",
    "shapefile = gpd.read_file(shp_path)\n",
    "shapefile = shapefile.to_crs(crs)\n",
    "geometries = [mapping(geometry) for geometry in shapefile.geometry]\n",
    "mask = geometry_mask(geometries, transform=transform, invert=True, out_shape=(height, width))"
   ]
  },
  {
   "cell_type": "code",
   "execution_count": 3,
   "id": "8450332f-0560-4f44-95b8-63ee3ad8cf8f",
   "metadata": {},
   "outputs": [],
   "source": [
    "class SuperResolutionDataset(Dataset):\n",
    "    def __init__(self, tem_dirs, tem_min_dirs, tem_max_dirs, pr_dirs, wind_dirs, ps_dirs, solar_dirs, ther_dirs, rh_dirs, eva_dirs, transform=None):\n",
    "        self.tem_files = self._get_all_files(tem_dirs)\n",
    "        self.tem_min_files = self._get_all_files(tem_min_dirs)\n",
    "        self.tem_max_files = self._get_all_files(tem_max_dirs)\n",
    "        self.pr_files = self._get_all_files(pr_dirs)\n",
    "        self.wind_files = self._get_all_files(wind_dirs)\n",
    "        self.ps_files = self._get_all_files(ps_dirs)\n",
    "        self.solar_files = self._get_all_files(solar_dirs)\n",
    "        self.ther_files = self._get_all_files(ther_dirs)\n",
    "        self.rh_files = self._get_all_files(rh_dirs)\n",
    "        self.eva_files = self._get_all_files(eva_dirs)\n",
    "        \n",
    "        self.transform = transform\n",
    "\n",
    "    def _get_all_files(self, dirs):\n",
    "        all_files = []\n",
    "        for directory in dirs:\n",
    "            for filename in sorted(os.listdir(directory)):  # 排序保证匹配\n",
    "                file_path = os.path.join(directory, filename)\n",
    "                if os.path.isfile(file_path):  # 确保是文件\n",
    "                    all_files.append(file_path)\n",
    "        return all_files\n",
    "\n",
    "    def __len__(self):\n",
    "        return len(self.tem_files)\n",
    "\n",
    "    def __getitem__(self, idx):\n",
    "        tem_path = self.tem_files[idx]\n",
    "        tem_min_path = self.tem_min_files[idx]\n",
    "        tem_max_path = self.tem_max_files[idx]\n",
    "        pr_path = self.pr_files[idx]\n",
    "        wind_path = self.wind_files[idx]\n",
    "        ps_path = self.ps_files[idx]\n",
    "        solar_path = self.solar_files[idx]\n",
    "        ther_path = self.ther_files[idx]\n",
    "        rh_path = self.rh_files[idx]\n",
    "        eva_path = self.eva_files[idx]\n",
    "        \n",
    "        with rasterio.open(tem_path) as tem_dataset:\n",
    "            tem_image = tem_dataset.read(1)  \n",
    "        with rasterio.open(tem_min_path) as tem_min_dataset:\n",
    "            tem_min_image = tem_min_dataset.read(1)  \n",
    "        with rasterio.open(tem_max_path) as tem_max_dataset:\n",
    "            tem_max_image = tem_max_dataset.read(1)  \n",
    "        with rasterio.open(pr_path) as pr_dataset:\n",
    "            pr_image = pr_dataset.read(1)\n",
    "            pr_image = pr_image*1000\n",
    "        with rasterio.open(wind_path) as wind_dataset:\n",
    "            wind_image = wind_dataset.read(1)  \n",
    "        with rasterio.open(ps_path) as ps_dataset:\n",
    "            ps_image = ps_dataset.read(1)  \n",
    "            ps_image = ps_image/1000\n",
    "        with rasterio.open(solar_path) as solar_dataset:\n",
    "            solar_image = solar_dataset.read(1) \n",
    "            solar_image = solar_image/86400\n",
    "        with rasterio.open(ther_path) as ther_dataset:\n",
    "            ther_image = ther_dataset.read(1) \n",
    "            ther_image = ther_image/86400\n",
    "        with rasterio.open(rh_path) as rh_dataset:\n",
    "            rh_image = rh_dataset.read(1) \n",
    "        with rasterio.open(eva_path) as eva_dataset:\n",
    "            eva_image = eva_dataset.read(1) \n",
    "\n",
    "        # 如果有 transform，应用转换\n",
    "        if self.transform:\n",
    "            tem_image = self.transform(tem_image)\n",
    "            tem_min_image = self.transform(tem_min_image)\n",
    "            tem_max_image = self.transform(tem_max_image)\n",
    "            pr_image = self.transform(pr_image)\n",
    "            wind_image = self.transform(wind_image)\n",
    "            ps_image = self.transform(ps_image)\n",
    "            solar_image = self.transform(solar_image)\n",
    "            ther_image = self.transform(ther_image)\n",
    "            rh_image = self.transform(rh_image)\n",
    "            eva_image = self.transform(eva_image)\n",
    "\n",
    "        else:\n",
    "        # 如果没有 transform，转换为 PyTorch 张量\n",
    "            tem_image = torch.from_numpy(tem_image).float()  # (1, H, W)\n",
    "            tem_min_image = torch.from_numpy(tem_min_image).float()  # (1, H, W)\n",
    "            tem_max_image = torch.from_numpy(tem_max_image).float()  # (1, H, W)\n",
    "            pr_image = torch.from_numpy(pr_image).float()  # (1, H, W)\n",
    "            wind_image = torch.from_numpy(wind_image).float()  # (1, H, W)\n",
    "            ps_image = torch.from_numpy(ps_image).float()  # (1, H, W)\n",
    "            solar_image = torch.from_numpy(solar_image).float()  # (1, H, W)\n",
    "            ther_image = torch.from_numpy(ther_image).float()  # (1, H, W)\n",
    "            rh_image = torch.from_numpy(rh_image).float()  # (1, H, W)\n",
    "            eva_image = torch.from_numpy(eva_image).float()  # (1, H, W)\n",
    "\n",
    "        lr_image =  torch.cat([tem_image, tem_min_image,tem_max_image,pr_image,wind_image,ps_image,solar_image,ther_image,rh_image], dim=0)\n",
    "            \n",
    "        return lr_image, eva_image\n",
    "# 定义数据增强和预处理操作\n",
    "data_transforms = transforms.Compose([\n",
    "    transforms.ToTensor(),  # 将 NumPy 数组转换为 PyTorch 张量\n",
    "])\n",
    "\n",
    "def load_tiff_with_rasterio(file_path):\n",
    "    with rasterio.open(file_path) as src:\n",
    "        img = src.read(1)  # 读取第一个波段\n",
    "        img = img\n",
    "    return img"
   ]
  },
  {
   "cell_type": "code",
   "execution_count": 4,
   "id": "b3c026f5-1cc3-4183-a6e8-276d08cf5da0",
   "metadata": {},
   "outputs": [],
   "source": [
    "year = list(range(2000,2014))\n",
    "tem_directories = []\n",
    "tem_min_directories = []\n",
    "tem_max_directories = []\n",
    "pr_directories = []\n",
    "wind_directories = []\n",
    "ps_directories = []\n",
    "solar_directories = []\n",
    "ther_directories = []\n",
    "rh_directories = []\n",
    "eva_directories = []\n",
    "for a_index,a in enumerate(year):\n",
    "    tem_path = f'F:/3_climate_100_52_40/1_tem/{a}'\n",
    "    tem_directories.append(tem_path)\n",
    "    tem_min_path = f'F:/3_climate_100_52_40/3_tem_min/{a}'\n",
    "    tem_min_directories.append(tem_min_path)\n",
    "    tem_max_path = f'F:/3_climate_100_52_40/2_tem_max/{a}'\n",
    "    tem_max_directories.append(tem_max_path)\n",
    "    pr_path = f'F:/3_climate_100_52_40/7_tol_per/{a}'\n",
    "    pr_directories.append(pr_path)\n",
    "    wind_path = f'F:/3_climate_100_52_40/4_wind_u/{a}'\n",
    "    wind_directories.append(wind_path)\n",
    "    ps_path = f'F:/3_climate_100_52_40/6_ps/{a}'\n",
    "    ps_directories.append(ps_path)\n",
    "    solar_path = f'F:/3_climate_100_52_40/8_solar_rad/{a}'\n",
    "    solar_directories.append(solar_path)\n",
    "    ther_path = f'F:/3_climate_100_52_40/9_ther_rad/{a}'\n",
    "    ther_directories.append(ther_path)\n",
    "    rh_path = f'F:/3_climate_100_52_40/11_rh/{a}'\n",
    "    rh_directories.append(rh_path)\n",
    "    eva_path = f'D:/7_climate_10_520_400/12_PET/{a}'\n",
    "    eva_directories.append(eva_path)\n",
    "dataset_train = SuperResolutionDataset(tem_dirs = tem_directories, tem_min_dirs = tem_min_directories, tem_max_dirs = tem_max_directories, \n",
    "                                       pr_dirs = pr_directories, wind_dirs = wind_directories, ps_dirs = ps_directories, solar_dirs = solar_directories,\n",
    "                                       ther_dirs = ther_directories, rh_dirs = rh_directories, eva_dirs = eva_directories, transform=data_transforms)\n",
    "dataloader_train = DataLoader(dataset_train, batch_size=16, shuffle=True, num_workers=0)\n",
    "\n",
    "\n",
    "year = list(range(2014,2019))\n",
    "tem_directories = []\n",
    "tem_min_directories = []\n",
    "tem_max_directories = []\n",
    "pr_directories = []\n",
    "wind_directories = []\n",
    "ps_directories = []\n",
    "solar_directories = []\n",
    "ther_directories = []\n",
    "rh_directories = []\n",
    "eva_directories = []\n",
    "for a_index,a in enumerate(year):\n",
    "    tem_path = f'F:/3_climate_100_52_40/1_tem/{a}'\n",
    "    tem_directories.append(tem_path)\n",
    "    tem_min_path = f'F:/3_climate_100_52_40/3_tem_min/{a}'\n",
    "    tem_min_directories.append(tem_min_path)\n",
    "    tem_max_path = f'F:/3_climate_100_52_40/2_tem_max/{a}'\n",
    "    tem_max_directories.append(tem_max_path)\n",
    "    pr_path = f'F:/3_climate_100_52_40/7_tol_per/{a}'\n",
    "    pr_directories.append(pr_path)\n",
    "    wind_path = f'F:/3_climate_100_52_40/4_wind_u/{a}'\n",
    "    wind_directories.append(wind_path)\n",
    "    ps_path = f'F:/3_climate_100_52_40/6_ps/{a}'\n",
    "    ps_directories.append(ps_path)\n",
    "    solar_path = f'F:/3_climate_100_52_40/8_solar_rad/{a}'\n",
    "    solar_directories.append(solar_path)\n",
    "    ther_path = f'F:/3_climate_100_52_40/9_ther_rad/{a}'\n",
    "    ther_directories.append(ther_path)\n",
    "    rh_path = f'F:/3_climate_100_52_40/11_rh/{a}'\n",
    "    rh_directories.append(rh_path)\n",
    "    eva_path = f'D:/7_climate_10_520_400/12_PET/{a}'\n",
    "    eva_directories.append(eva_path)\n",
    "dataset_val = SuperResolutionDataset(tem_dirs = tem_directories, tem_min_dirs = tem_min_directories, tem_max_dirs = tem_max_directories, \n",
    "                                       pr_dirs = pr_directories, wind_dirs = wind_directories, ps_dirs = ps_directories, solar_dirs = solar_directories,\n",
    "                                       ther_dirs = ther_directories, rh_dirs = rh_directories, eva_dirs = eva_directories, transform=data_transforms)\n",
    "dataloader_val = DataLoader(dataset_val, batch_size=16, shuffle=True, num_workers=0)\n",
    "\n",
    "\n",
    "year = list(range(2019,2024))\n",
    "tem_directories = []\n",
    "tem_min_directories = []\n",
    "tem_max_directories = []\n",
    "pr_directories = []\n",
    "wind_directories = []\n",
    "ps_directories = []\n",
    "solar_directories = []\n",
    "ther_directories = []\n",
    "rh_directories = []\n",
    "eva_directories = []\n",
    "for a_index,a in enumerate(year):\n",
    "    tem_path = f'F:/3_climate_100_52_40/1_tem/{a}'\n",
    "    tem_directories.append(tem_path)\n",
    "    tem_min_path = f'F:/3_climate_100_52_40/3_tem_min/{a}'\n",
    "    tem_min_directories.append(tem_min_path)\n",
    "    tem_max_path = f'F:/3_climate_100_52_40/2_tem_max/{a}'\n",
    "    tem_max_directories.append(tem_max_path)\n",
    "    pr_path = f'F:/3_climate_100_52_40/7_tol_per/{a}'\n",
    "    pr_directories.append(pr_path)\n",
    "    wind_path = f'F:/3_climate_100_52_40/4_wind_u/{a}'\n",
    "    wind_directories.append(wind_path)\n",
    "    ps_path = f'F:/3_climate_100_52_40/6_ps/{a}'\n",
    "    ps_directories.append(ps_path)\n",
    "    solar_path = f'F:/3_climate_100_52_40/8_solar_rad/{a}'\n",
    "    solar_directories.append(solar_path)\n",
    "    ther_path = f'F:/3_climate_100_52_40/9_ther_rad/{a}'\n",
    "    ther_directories.append(ther_path)\n",
    "    rh_path = f'F:/3_climate_100_52_40/11_rh/{a}'\n",
    "    rh_directories.append(rh_path)\n",
    "    eva_path = f'D:/7_climate_10_520_400/12_PET/{a}'\n",
    "    eva_directories.append(eva_path)\n",
    "dataset_test = SuperResolutionDataset(tem_dirs = tem_directories, tem_min_dirs = tem_min_directories, tem_max_dirs = tem_max_directories, \n",
    "                                       pr_dirs = pr_directories, wind_dirs = wind_directories, ps_dirs = ps_directories, solar_dirs = solar_directories,\n",
    "                                       ther_dirs = ther_directories, rh_dirs = rh_directories, eva_dirs = eva_directories, transform=data_transforms)\n",
    "dataloader_test = DataLoader(dataset_test, batch_size=16, shuffle=True, num_workers=0)"
   ]
  },
  {
   "cell_type": "code",
   "execution_count": 5,
   "id": "196a31d2-77eb-41ea-bdc2-6ef2851b3173",
   "metadata": {},
   "outputs": [],
   "source": [
    "def train_model(model, dataloader, criterion, optimizer, device):\n",
    "    model.train()\n",
    "    running_loss = 0.0\n",
    "    for inputs, targets in tqdm(dataloader):\n",
    "        inputs  = inputs.float().to(device)\n",
    "        targets = targets.float().to(device)\n",
    "\n",
    "        inputs[torch.isnan(inputs)] = 0\n",
    "        targets[torch.isnan(targets)] = 0\n",
    "\n",
    "        assert not torch.isnan(inputs).any(), \"Input contains NaN values\"\n",
    "        assert not torch.isnan(targets).any(), \"Target contains NaN values\"\n",
    "        \n",
    "        optimizer.zero_grad()\n",
    "        outputs_up = model(inputs)\n",
    "\n",
    "        loss = criterion(outputs_up, targets).to(device)\n",
    "        loss.backward()\n",
    "        optimizer.step()\n",
    "\n",
    "        running_loss += loss.item() * inputs.size(0)\n",
    "\n",
    "    epoch_loss = running_loss / len(dataloader.dataset)\n",
    "    return epoch_loss\n",
    "\n",
    "def validate_model(model, dataloader, criterion, device):\n",
    "    model.eval()\n",
    "    running_loss = 0.0\n",
    "    with torch.no_grad():\n",
    "        for inputs, targets in tqdm(dataloader):\n",
    "            inputs = inputs.float().to(device)\n",
    "            targets =  targets.float().to(device)\n",
    "            inputs[torch.isnan(inputs)] = 0\n",
    "            targets[torch.isnan(targets)] = 0\n",
    "\n",
    "            outputs = model(inputs)\n",
    "\n",
    "            loss = criterion(outputs, targets)\n",
    "            running_loss += loss.item() * inputs.size(0)\n",
    "\n",
    "    epoch_loss = running_loss / len(dataloader.dataset)\n",
    "    return epoch_loss\n"
   ]
  },
  {
   "cell_type": "code",
   "execution_count": 7,
   "id": "8910f3b7-f37c-46eb-bf21-c4c320947daa",
   "metadata": {},
   "outputs": [],
   "source": [
    "class FSRCNN(nn.Module):\n",
    "    def __init__(self):\n",
    "        super(FSRCNN, self).__init__()\n",
    "        # Feature Extraction\n",
    "        self.conv1 = nn.Conv2d(9, 56, kernel_size=5, padding=2)\n",
    "        self.relu1 = nn.ReLU()\n",
    "        self.conv2 = nn.Conv2d(56, 12, kernel_size=1)\n",
    "        self.relu2 = nn.ReLU()\n",
    "\n",
    "        self.conv21 = nn.Conv2d(12, 12, kernel_size=1)\n",
    "        self.relu21 = nn.ReLU()\n",
    "        self.conv22 = nn.Conv2d(12, 12, kernel_size=1)\n",
    "        self.relu22 = nn.ReLU()\n",
    "\n",
    "        self.conv3 = nn.Conv2d(12, 56, kernel_size=1)\n",
    "        self.relu3 = nn.ReLU()\n",
    "        \n",
    "        self.deconv = nn.ConvTranspose2d(56, 56, kernel_size=9, stride=5, padding=4, output_padding=4)\n",
    "        self.relu4 = nn.ReLU()\n",
    "        self.deconv1 = nn.ConvTranspose2d(56, 1, kernel_size=9, stride=2, padding=4, output_padding=1)\n",
    "    def forward(self, x):\n",
    "        x = self.relu1(self.conv1(x))\n",
    "        x = self.relu2(self.conv2(x))\n",
    "        x = self.relu21(self.conv21(x))\n",
    "        x = self.relu22(self.conv22(x))\n",
    "        x = self.relu3(self.conv3(x))\n",
    "        x = self.relu4(self.deconv(x))\n",
    "        x = self.deconv1(x)\n",
    "        return x"
   ]
  },
  {
   "cell_type": "code",
   "execution_count": 7,
   "id": "c452d1d9-9dcb-449a-b915-f9fb608d0e3f",
   "metadata": {
    "scrolled": true
   },
   "outputs": [
    {
     "name": "stdout",
     "output_type": "stream",
     "text": [
      "Epoch 1/100\n",
      "Model is training on: cuda:0\n"
     ]
    },
    {
     "name": "stderr",
     "output_type": "stream",
     "text": [
      "100%|██████████| 320/320 [03:10<00:00,  1.68it/s]\n",
      "100%|██████████| 115/115 [01:08<00:00,  1.67it/s]\n"
     ]
    },
    {
     "name": "stdout",
     "output_type": "stream",
     "text": [
      "Train Loss: 0.8616 | Validation Loss: 0.5581\n",
      "Model saved!\n",
      "Epoch 2/100\n",
      "Model is training on: cuda:0\n"
     ]
    },
    {
     "name": "stderr",
     "output_type": "stream",
     "text": [
      "100%|██████████| 320/320 [03:03<00:00,  1.75it/s]\n",
      "100%|██████████| 115/115 [01:04<00:00,  1.78it/s]\n"
     ]
    },
    {
     "name": "stdout",
     "output_type": "stream",
     "text": [
      "Train Loss: 0.5142 | Validation Loss: 0.4806\n",
      "Model saved!\n",
      "Epoch 3/100\n",
      "Model is training on: cuda:0\n"
     ]
    },
    {
     "name": "stderr",
     "output_type": "stream",
     "text": [
      "100%|██████████| 320/320 [03:06<00:00,  1.72it/s]\n",
      "100%|██████████| 115/115 [01:04<00:00,  1.77it/s]\n"
     ]
    },
    {
     "name": "stdout",
     "output_type": "stream",
     "text": [
      "Train Loss: 0.4674 | Validation Loss: 0.4415\n",
      "Model saved!\n",
      "Epoch 4/100\n",
      "Model is training on: cuda:0\n"
     ]
    },
    {
     "name": "stderr",
     "output_type": "stream",
     "text": [
      "100%|██████████| 320/320 [03:07<00:00,  1.71it/s]\n",
      "100%|██████████| 115/115 [01:07<00:00,  1.70it/s]\n"
     ]
    },
    {
     "name": "stdout",
     "output_type": "stream",
     "text": [
      "Train Loss: 0.4404 | Validation Loss: 0.4371\n",
      "Model saved!\n",
      "Epoch 5/100\n",
      "Model is training on: cuda:0\n"
     ]
    },
    {
     "name": "stderr",
     "output_type": "stream",
     "text": [
      "100%|██████████| 320/320 [03:05<00:00,  1.73it/s]\n",
      "100%|██████████| 115/115 [01:04<00:00,  1.78it/s]\n"
     ]
    },
    {
     "name": "stdout",
     "output_type": "stream",
     "text": [
      "Train Loss: 0.4249 | Validation Loss: 0.4153\n",
      "Model saved!\n",
      "Epoch 6/100\n",
      "Model is training on: cuda:0\n"
     ]
    },
    {
     "name": "stderr",
     "output_type": "stream",
     "text": [
      "100%|██████████| 320/320 [03:00<00:00,  1.77it/s]\n",
      "100%|██████████| 115/115 [01:05<00:00,  1.75it/s]\n"
     ]
    },
    {
     "name": "stdout",
     "output_type": "stream",
     "text": [
      "Train Loss: 0.4157 | Validation Loss: 0.4114\n",
      "Model saved!\n",
      "Epoch 7/100\n",
      "Model is training on: cuda:0\n"
     ]
    },
    {
     "name": "stderr",
     "output_type": "stream",
     "text": [
      "100%|██████████| 320/320 [03:06<00:00,  1.71it/s]\n",
      "100%|██████████| 115/115 [01:05<00:00,  1.75it/s]\n"
     ]
    },
    {
     "name": "stdout",
     "output_type": "stream",
     "text": [
      "Train Loss: 0.4086 | Validation Loss: 0.4035\n",
      "Model saved!\n",
      "Epoch 8/100\n",
      "Model is training on: cuda:0\n"
     ]
    },
    {
     "name": "stderr",
     "output_type": "stream",
     "text": [
      "100%|██████████| 320/320 [03:05<00:00,  1.72it/s]\n",
      "100%|██████████| 115/115 [01:06<00:00,  1.74it/s]\n"
     ]
    },
    {
     "name": "stdout",
     "output_type": "stream",
     "text": [
      "Train Loss: 0.4032 | Validation Loss: 0.3954\n",
      "Model saved!\n",
      "Epoch 9/100\n",
      "Model is training on: cuda:0\n"
     ]
    },
    {
     "name": "stderr",
     "output_type": "stream",
     "text": [
      "100%|██████████| 320/320 [03:06<00:00,  1.71it/s]\n",
      "100%|██████████| 115/115 [01:06<00:00,  1.74it/s]\n"
     ]
    },
    {
     "name": "stdout",
     "output_type": "stream",
     "text": [
      "Train Loss: 0.3989 | Validation Loss: 0.3981\n",
      "Epoch 10/100\n",
      "Model is training on: cuda:0\n"
     ]
    },
    {
     "name": "stderr",
     "output_type": "stream",
     "text": [
      "100%|██████████| 320/320 [03:05<00:00,  1.73it/s]\n",
      "100%|██████████| 115/115 [01:05<00:00,  1.75it/s]\n"
     ]
    },
    {
     "name": "stdout",
     "output_type": "stream",
     "text": [
      "Train Loss: 0.3965 | Validation Loss: 0.3912\n",
      "Model saved!\n",
      "Epoch 11/100\n",
      "Model is training on: cuda:0\n"
     ]
    },
    {
     "name": "stderr",
     "output_type": "stream",
     "text": [
      "100%|██████████| 320/320 [03:04<00:00,  1.73it/s]\n",
      "100%|██████████| 115/115 [01:06<00:00,  1.74it/s]\n"
     ]
    },
    {
     "name": "stdout",
     "output_type": "stream",
     "text": [
      "Train Loss: 0.3910 | Validation Loss: 0.3803\n",
      "Model saved!\n",
      "Epoch 12/100\n",
      "Model is training on: cuda:0\n"
     ]
    },
    {
     "name": "stderr",
     "output_type": "stream",
     "text": [
      "100%|██████████| 320/320 [03:05<00:00,  1.73it/s]\n",
      "100%|██████████| 115/115 [01:05<00:00,  1.75it/s]\n"
     ]
    },
    {
     "name": "stdout",
     "output_type": "stream",
     "text": [
      "Train Loss: 0.3873 | Validation Loss: 0.3898\n",
      "Epoch 13/100\n",
      "Model is training on: cuda:0\n"
     ]
    },
    {
     "name": "stderr",
     "output_type": "stream",
     "text": [
      "100%|██████████| 320/320 [03:03<00:00,  1.75it/s]\n",
      "100%|██████████| 115/115 [01:05<00:00,  1.76it/s]\n"
     ]
    },
    {
     "name": "stdout",
     "output_type": "stream",
     "text": [
      "Train Loss: 0.3835 | Validation Loss: 0.3832\n",
      "Epoch 14/100\n",
      "Model is training on: cuda:0\n"
     ]
    },
    {
     "name": "stderr",
     "output_type": "stream",
     "text": [
      "100%|██████████| 320/320 [03:04<00:00,  1.74it/s]\n",
      "100%|██████████| 115/115 [01:07<00:00,  1.70it/s]\n"
     ]
    },
    {
     "name": "stdout",
     "output_type": "stream",
     "text": [
      "Train Loss: 0.3825 | Validation Loss: 0.3710\n",
      "Model saved!\n",
      "Epoch 15/100\n",
      "Model is training on: cuda:0\n"
     ]
    },
    {
     "name": "stderr",
     "output_type": "stream",
     "text": [
      "100%|██████████| 320/320 [03:05<00:00,  1.72it/s]\n",
      "100%|██████████| 115/115 [01:05<00:00,  1.75it/s]\n"
     ]
    },
    {
     "name": "stdout",
     "output_type": "stream",
     "text": [
      "Train Loss: 0.3788 | Validation Loss: 0.3771\n",
      "Epoch 16/100\n",
      "Model is training on: cuda:0\n"
     ]
    },
    {
     "name": "stderr",
     "output_type": "stream",
     "text": [
      "100%|██████████| 320/320 [03:02<00:00,  1.75it/s]\n",
      "100%|██████████| 115/115 [01:04<00:00,  1.78it/s]\n"
     ]
    },
    {
     "name": "stdout",
     "output_type": "stream",
     "text": [
      "Train Loss: 0.3747 | Validation Loss: 0.3739\n",
      "Epoch 17/100\n",
      "Model is training on: cuda:0\n"
     ]
    },
    {
     "name": "stderr",
     "output_type": "stream",
     "text": [
      "100%|██████████| 320/320 [03:02<00:00,  1.75it/s]\n",
      "100%|██████████| 115/115 [01:07<00:00,  1.72it/s]\n"
     ]
    },
    {
     "name": "stdout",
     "output_type": "stream",
     "text": [
      "Train Loss: 0.3731 | Validation Loss: 0.3689\n",
      "Model saved!\n",
      "Epoch 18/100\n",
      "Model is training on: cuda:0\n"
     ]
    },
    {
     "name": "stderr",
     "output_type": "stream",
     "text": [
      "100%|██████████| 320/320 [03:08<00:00,  1.70it/s]\n",
      "100%|██████████| 115/115 [01:06<00:00,  1.72it/s]\n"
     ]
    },
    {
     "name": "stdout",
     "output_type": "stream",
     "text": [
      "Train Loss: 0.3706 | Validation Loss: 0.3648\n",
      "Model saved!\n",
      "Epoch 19/100\n",
      "Model is training on: cuda:0\n"
     ]
    },
    {
     "name": "stderr",
     "output_type": "stream",
     "text": [
      "100%|██████████| 320/320 [03:27<00:00,  1.54it/s]\n",
      "100%|██████████| 115/115 [01:10<00:00,  1.63it/s]\n"
     ]
    },
    {
     "name": "stdout",
     "output_type": "stream",
     "text": [
      "Train Loss: 0.3703 | Validation Loss: 0.3611\n",
      "Model saved!\n",
      "Epoch 20/100\n",
      "Model is training on: cuda:0\n"
     ]
    },
    {
     "name": "stderr",
     "output_type": "stream",
     "text": [
      "100%|██████████| 320/320 [03:16<00:00,  1.63it/s]\n",
      "100%|██████████| 115/115 [01:06<00:00,  1.73it/s]\n"
     ]
    },
    {
     "name": "stdout",
     "output_type": "stream",
     "text": [
      "Train Loss: 0.3702 | Validation Loss: 0.3585\n",
      "Model saved!\n",
      "Epoch 21/100\n",
      "Model is training on: cuda:0\n"
     ]
    },
    {
     "name": "stderr",
     "output_type": "stream",
     "text": [
      "100%|██████████| 320/320 [03:09<00:00,  1.69it/s]\n",
      "100%|██████████| 115/115 [01:06<00:00,  1.73it/s]\n"
     ]
    },
    {
     "name": "stdout",
     "output_type": "stream",
     "text": [
      "Train Loss: 0.3673 | Validation Loss: 0.3679\n",
      "Epoch 22/100\n",
      "Model is training on: cuda:0\n"
     ]
    },
    {
     "name": "stderr",
     "output_type": "stream",
     "text": [
      "100%|██████████| 320/320 [03:09<00:00,  1.69it/s]\n",
      "100%|██████████| 115/115 [01:06<00:00,  1.72it/s]\n"
     ]
    },
    {
     "name": "stdout",
     "output_type": "stream",
     "text": [
      "Train Loss: 0.3645 | Validation Loss: 0.3562\n",
      "Model saved!\n",
      "Epoch 23/100\n",
      "Model is training on: cuda:0\n"
     ]
    },
    {
     "name": "stderr",
     "output_type": "stream",
     "text": [
      "100%|██████████| 320/320 [03:09<00:00,  1.69it/s]\n",
      "100%|██████████| 115/115 [01:06<00:00,  1.73it/s]\n"
     ]
    },
    {
     "name": "stdout",
     "output_type": "stream",
     "text": [
      "Train Loss: 0.3632 | Validation Loss: 0.3791\n",
      "Epoch 24/100\n",
      "Model is training on: cuda:0\n"
     ]
    },
    {
     "name": "stderr",
     "output_type": "stream",
     "text": [
      "100%|██████████| 320/320 [03:08<00:00,  1.70it/s]\n",
      "100%|██████████| 115/115 [01:05<00:00,  1.76it/s]\n"
     ]
    },
    {
     "name": "stdout",
     "output_type": "stream",
     "text": [
      "Train Loss: 0.3639 | Validation Loss: 0.3696\n",
      "Epoch 25/100\n",
      "Model is training on: cuda:0\n"
     ]
    },
    {
     "name": "stderr",
     "output_type": "stream",
     "text": [
      "100%|██████████| 320/320 [03:07<00:00,  1.70it/s]\n",
      "100%|██████████| 115/115 [01:05<00:00,  1.75it/s]\n"
     ]
    },
    {
     "name": "stdout",
     "output_type": "stream",
     "text": [
      "Train Loss: 0.3614 | Validation Loss: 0.3573\n",
      "Epoch 26/100\n",
      "Model is training on: cuda:0\n"
     ]
    },
    {
     "name": "stderr",
     "output_type": "stream",
     "text": [
      "100%|██████████| 320/320 [03:07<00:00,  1.71it/s]\n",
      "100%|██████████| 115/115 [01:05<00:00,  1.75it/s]\n"
     ]
    },
    {
     "name": "stdout",
     "output_type": "stream",
     "text": [
      "Train Loss: 0.3588 | Validation Loss: 0.3609\n",
      "Epoch 27/100\n",
      "Model is training on: cuda:0\n"
     ]
    },
    {
     "name": "stderr",
     "output_type": "stream",
     "text": [
      "100%|██████████| 320/320 [03:08<00:00,  1.70it/s]\n",
      "100%|██████████| 115/115 [01:05<00:00,  1.76it/s]\n"
     ]
    },
    {
     "name": "stdout",
     "output_type": "stream",
     "text": [
      "Train Loss: 0.3563 | Validation Loss: 0.3557\n",
      "Model saved!\n",
      "Epoch 28/100\n",
      "Model is training on: cuda:0\n"
     ]
    },
    {
     "name": "stderr",
     "output_type": "stream",
     "text": [
      "100%|██████████| 320/320 [03:09<00:00,  1.69it/s]\n",
      "100%|██████████| 115/115 [01:05<00:00,  1.74it/s]\n"
     ]
    },
    {
     "name": "stdout",
     "output_type": "stream",
     "text": [
      "Train Loss: 0.3568 | Validation Loss: 0.3479\n",
      "Model saved!\n",
      "Epoch 29/100\n",
      "Model is training on: cuda:0\n"
     ]
    },
    {
     "name": "stderr",
     "output_type": "stream",
     "text": [
      "100%|██████████| 320/320 [03:05<00:00,  1.72it/s]\n",
      "100%|██████████| 115/115 [01:06<00:00,  1.74it/s]\n"
     ]
    },
    {
     "name": "stdout",
     "output_type": "stream",
     "text": [
      "Train Loss: 0.3562 | Validation Loss: 0.3636\n",
      "Epoch 30/100\n",
      "Model is training on: cuda:0\n"
     ]
    },
    {
     "name": "stderr",
     "output_type": "stream",
     "text": [
      "100%|██████████| 320/320 [03:06<00:00,  1.72it/s]\n",
      "100%|██████████| 115/115 [01:05<00:00,  1.75it/s]\n"
     ]
    },
    {
     "name": "stdout",
     "output_type": "stream",
     "text": [
      "Train Loss: 0.3541 | Validation Loss: 0.3531\n",
      "Epoch 31/100\n",
      "Model is training on: cuda:0\n"
     ]
    },
    {
     "name": "stderr",
     "output_type": "stream",
     "text": [
      "100%|██████████| 320/320 [03:04<00:00,  1.73it/s]\n",
      "100%|██████████| 115/115 [01:05<00:00,  1.76it/s]\n"
     ]
    },
    {
     "name": "stdout",
     "output_type": "stream",
     "text": [
      "Train Loss: 0.3530 | Validation Loss: 0.3442\n",
      "Model saved!\n",
      "Epoch 32/100\n",
      "Model is training on: cuda:0\n"
     ]
    },
    {
     "name": "stderr",
     "output_type": "stream",
     "text": [
      "100%|██████████| 320/320 [03:02<00:00,  1.75it/s]\n",
      "100%|██████████| 115/115 [01:06<00:00,  1.74it/s]\n"
     ]
    },
    {
     "name": "stdout",
     "output_type": "stream",
     "text": [
      "Train Loss: 0.3536 | Validation Loss: 0.3431\n",
      "Model saved!\n",
      "Epoch 33/100\n",
      "Model is training on: cuda:0\n"
     ]
    },
    {
     "name": "stderr",
     "output_type": "stream",
     "text": [
      "100%|██████████| 320/320 [03:04<00:00,  1.73it/s]\n",
      "100%|██████████| 115/115 [01:05<00:00,  1.77it/s]\n"
     ]
    },
    {
     "name": "stdout",
     "output_type": "stream",
     "text": [
      "Train Loss: 0.3492 | Validation Loss: 0.3484\n",
      "Epoch 34/100\n",
      "Model is training on: cuda:0\n"
     ]
    },
    {
     "name": "stderr",
     "output_type": "stream",
     "text": [
      "100%|██████████| 320/320 [03:09<00:00,  1.69it/s]\n",
      "100%|██████████| 115/115 [01:07<00:00,  1.71it/s]\n"
     ]
    },
    {
     "name": "stdout",
     "output_type": "stream",
     "text": [
      "Train Loss: 0.3499 | Validation Loss: 0.3420\n",
      "Model saved!\n",
      "Epoch 35/100\n",
      "Model is training on: cuda:0\n"
     ]
    },
    {
     "name": "stderr",
     "output_type": "stream",
     "text": [
      "100%|██████████| 320/320 [03:09<00:00,  1.69it/s]\n",
      "100%|██████████| 115/115 [01:06<00:00,  1.72it/s]\n"
     ]
    },
    {
     "name": "stdout",
     "output_type": "stream",
     "text": [
      "Train Loss: 0.3494 | Validation Loss: 0.3410\n",
      "Model saved!\n",
      "Epoch 36/100\n",
      "Model is training on: cuda:0\n"
     ]
    },
    {
     "name": "stderr",
     "output_type": "stream",
     "text": [
      "100%|██████████| 320/320 [03:09<00:00,  1.69it/s]\n",
      "100%|██████████| 115/115 [01:05<00:00,  1.74it/s]\n"
     ]
    },
    {
     "name": "stdout",
     "output_type": "stream",
     "text": [
      "Train Loss: 0.3468 | Validation Loss: 0.3507\n",
      "Epoch 37/100\n",
      "Model is training on: cuda:0\n"
     ]
    },
    {
     "name": "stderr",
     "output_type": "stream",
     "text": [
      "100%|██████████| 320/320 [03:11<00:00,  1.67it/s]\n",
      "100%|██████████| 115/115 [01:06<00:00,  1.73it/s]\n"
     ]
    },
    {
     "name": "stdout",
     "output_type": "stream",
     "text": [
      "Train Loss: 0.3466 | Validation Loss: 0.3396\n",
      "Model saved!\n",
      "Epoch 38/100\n",
      "Model is training on: cuda:0\n"
     ]
    },
    {
     "name": "stderr",
     "output_type": "stream",
     "text": [
      "100%|██████████| 320/320 [03:10<00:00,  1.68it/s]\n",
      "100%|██████████| 115/115 [01:05<00:00,  1.75it/s]\n"
     ]
    },
    {
     "name": "stdout",
     "output_type": "stream",
     "text": [
      "Train Loss: 0.3471 | Validation Loss: 0.3403\n",
      "Epoch 39/100\n",
      "Model is training on: cuda:0\n"
     ]
    },
    {
     "name": "stderr",
     "output_type": "stream",
     "text": [
      "100%|██████████| 320/320 [03:06<00:00,  1.72it/s]\n",
      "100%|██████████| 115/115 [01:07<00:00,  1.71it/s]\n"
     ]
    },
    {
     "name": "stdout",
     "output_type": "stream",
     "text": [
      "Train Loss: 0.3440 | Validation Loss: 0.3365\n",
      "Model saved!\n",
      "Epoch 40/100\n",
      "Model is training on: cuda:0\n"
     ]
    },
    {
     "name": "stderr",
     "output_type": "stream",
     "text": [
      "100%|██████████| 320/320 [03:06<00:00,  1.71it/s]\n",
      "100%|██████████| 115/115 [01:05<00:00,  1.75it/s]\n"
     ]
    },
    {
     "name": "stdout",
     "output_type": "stream",
     "text": [
      "Train Loss: 0.3438 | Validation Loss: 0.3358\n",
      "Model saved!\n",
      "Epoch 41/100\n",
      "Model is training on: cuda:0\n"
     ]
    },
    {
     "name": "stderr",
     "output_type": "stream",
     "text": [
      "100%|██████████| 320/320 [03:03<00:00,  1.74it/s]\n",
      "100%|██████████| 115/115 [01:05<00:00,  1.76it/s]\n"
     ]
    },
    {
     "name": "stdout",
     "output_type": "stream",
     "text": [
      "Train Loss: 0.3450 | Validation Loss: 0.3388\n",
      "Epoch 42/100\n",
      "Model is training on: cuda:0\n"
     ]
    },
    {
     "name": "stderr",
     "output_type": "stream",
     "text": [
      "100%|██████████| 320/320 [03:04<00:00,  1.74it/s]\n",
      "100%|██████████| 115/115 [01:05<00:00,  1.76it/s]\n"
     ]
    },
    {
     "name": "stdout",
     "output_type": "stream",
     "text": [
      "Train Loss: 0.3426 | Validation Loss: 0.3368\n",
      "Epoch 43/100\n",
      "Model is training on: cuda:0\n"
     ]
    },
    {
     "name": "stderr",
     "output_type": "stream",
     "text": [
      "100%|██████████| 320/320 [03:07<00:00,  1.71it/s]\n",
      "100%|██████████| 115/115 [01:08<00:00,  1.69it/s]\n"
     ]
    },
    {
     "name": "stdout",
     "output_type": "stream",
     "text": [
      "Train Loss: 0.3408 | Validation Loss: 0.3395\n",
      "Epoch 44/100\n",
      "Model is training on: cuda:0\n"
     ]
    },
    {
     "name": "stderr",
     "output_type": "stream",
     "text": [
      "100%|██████████| 320/320 [03:10<00:00,  1.68it/s]\n",
      "100%|██████████| 115/115 [01:06<00:00,  1.72it/s]\n"
     ]
    },
    {
     "name": "stdout",
     "output_type": "stream",
     "text": [
      "Train Loss: 0.3404 | Validation Loss: 0.3341\n",
      "Model saved!\n",
      "Epoch 45/100\n",
      "Model is training on: cuda:0\n"
     ]
    },
    {
     "name": "stderr",
     "output_type": "stream",
     "text": [
      "100%|██████████| 320/320 [03:03<00:00,  1.74it/s]\n",
      "100%|██████████| 115/115 [01:05<00:00,  1.76it/s]\n"
     ]
    },
    {
     "name": "stdout",
     "output_type": "stream",
     "text": [
      "Train Loss: 0.3433 | Validation Loss: 0.3335\n",
      "Model saved!\n",
      "Epoch 46/100\n",
      "Model is training on: cuda:0\n"
     ]
    },
    {
     "name": "stderr",
     "output_type": "stream",
     "text": [
      "100%|██████████| 320/320 [03:05<00:00,  1.72it/s]\n",
      "100%|██████████| 115/115 [01:07<00:00,  1.70it/s]\n"
     ]
    },
    {
     "name": "stdout",
     "output_type": "stream",
     "text": [
      "Train Loss: 0.3391 | Validation Loss: 0.3302\n",
      "Model saved!\n",
      "Epoch 47/100\n",
      "Model is training on: cuda:0\n"
     ]
    },
    {
     "name": "stderr",
     "output_type": "stream",
     "text": [
      "100%|██████████| 320/320 [03:08<00:00,  1.69it/s]\n",
      "100%|██████████| 115/115 [01:07<00:00,  1.71it/s]\n"
     ]
    },
    {
     "name": "stdout",
     "output_type": "stream",
     "text": [
      "Train Loss: 0.3382 | Validation Loss: 0.3482\n",
      "Epoch 48/100\n",
      "Model is training on: cuda:0\n"
     ]
    },
    {
     "name": "stderr",
     "output_type": "stream",
     "text": [
      "100%|██████████| 320/320 [03:06<00:00,  1.71it/s]\n",
      "100%|██████████| 115/115 [01:07<00:00,  1.71it/s]\n"
     ]
    },
    {
     "name": "stdout",
     "output_type": "stream",
     "text": [
      "Train Loss: 0.3378 | Validation Loss: 0.3357\n",
      "Epoch 49/100\n",
      "Model is training on: cuda:0\n"
     ]
    },
    {
     "name": "stderr",
     "output_type": "stream",
     "text": [
      "100%|██████████| 320/320 [03:12<00:00,  1.67it/s]\n",
      "100%|██████████| 115/115 [01:07<00:00,  1.69it/s]\n"
     ]
    },
    {
     "name": "stdout",
     "output_type": "stream",
     "text": [
      "Train Loss: 0.3406 | Validation Loss: 0.3378\n",
      "Epoch 50/100\n",
      "Model is training on: cuda:0\n"
     ]
    },
    {
     "name": "stderr",
     "output_type": "stream",
     "text": [
      "100%|██████████| 320/320 [03:08<00:00,  1.70it/s]\n",
      "100%|██████████| 115/115 [01:05<00:00,  1.75it/s]\n"
     ]
    },
    {
     "name": "stdout",
     "output_type": "stream",
     "text": [
      "Train Loss: 0.3391 | Validation Loss: 0.3446\n",
      "Epoch 51/100\n",
      "Model is training on: cuda:0\n"
     ]
    },
    {
     "name": "stderr",
     "output_type": "stream",
     "text": [
      "100%|██████████| 320/320 [03:05<00:00,  1.73it/s]\n",
      "100%|██████████| 115/115 [01:05<00:00,  1.76it/s]\n"
     ]
    },
    {
     "name": "stdout",
     "output_type": "stream",
     "text": [
      "Train Loss: 0.3378 | Validation Loss: 0.3388\n",
      "Epoch 52/100\n",
      "Model is training on: cuda:0\n"
     ]
    },
    {
     "name": "stderr",
     "output_type": "stream",
     "text": [
      "100%|██████████| 320/320 [03:04<00:00,  1.74it/s]\n",
      "100%|██████████| 115/115 [01:06<00:00,  1.72it/s]\n"
     ]
    },
    {
     "name": "stdout",
     "output_type": "stream",
     "text": [
      "Train Loss: 0.3339 | Validation Loss: 0.3342\n",
      "Epoch 53/100\n",
      "Model is training on: cuda:0\n"
     ]
    },
    {
     "name": "stderr",
     "output_type": "stream",
     "text": [
      "100%|██████████| 320/320 [03:06<00:00,  1.71it/s]\n",
      "100%|██████████| 115/115 [01:05<00:00,  1.74it/s]\n"
     ]
    },
    {
     "name": "stdout",
     "output_type": "stream",
     "text": [
      "Train Loss: 0.3362 | Validation Loss: 0.3499\n",
      "Epoch 54/100\n",
      "Model is training on: cuda:0\n"
     ]
    },
    {
     "name": "stderr",
     "output_type": "stream",
     "text": [
      "100%|██████████| 320/320 [03:09<00:00,  1.69it/s]\n",
      "100%|██████████| 115/115 [01:06<00:00,  1.73it/s]\n"
     ]
    },
    {
     "name": "stdout",
     "output_type": "stream",
     "text": [
      "Train Loss: 0.3338 | Validation Loss: 0.3266\n",
      "Model saved!\n",
      "Epoch 55/100\n",
      "Model is training on: cuda:0\n"
     ]
    },
    {
     "name": "stderr",
     "output_type": "stream",
     "text": [
      "100%|██████████| 320/320 [03:10<00:00,  1.68it/s]\n",
      "100%|██████████| 115/115 [01:07<00:00,  1.71it/s]\n"
     ]
    },
    {
     "name": "stdout",
     "output_type": "stream",
     "text": [
      "Train Loss: 0.3334 | Validation Loss: 0.3268\n",
      "Epoch 56/100\n",
      "Model is training on: cuda:0\n"
     ]
    },
    {
     "name": "stderr",
     "output_type": "stream",
     "text": [
      "100%|██████████| 320/320 [03:10<00:00,  1.68it/s]\n",
      "100%|██████████| 115/115 [01:07<00:00,  1.70it/s]\n"
     ]
    },
    {
     "name": "stdout",
     "output_type": "stream",
     "text": [
      "Train Loss: 0.3334 | Validation Loss: 0.3281\n",
      "Epoch 57/100\n",
      "Model is training on: cuda:0\n"
     ]
    },
    {
     "name": "stderr",
     "output_type": "stream",
     "text": [
      "100%|██████████| 320/320 [03:10<00:00,  1.68it/s]\n",
      "100%|██████████| 115/115 [01:05<00:00,  1.75it/s]\n"
     ]
    },
    {
     "name": "stdout",
     "output_type": "stream",
     "text": [
      "Train Loss: 0.3324 | Validation Loss: 0.3341\n",
      "Epoch 58/100\n",
      "Model is training on: cuda:0\n"
     ]
    },
    {
     "name": "stderr",
     "output_type": "stream",
     "text": [
      "100%|██████████| 320/320 [03:11<00:00,  1.67it/s]\n",
      "100%|██████████| 115/115 [01:08<00:00,  1.68it/s]\n"
     ]
    },
    {
     "name": "stdout",
     "output_type": "stream",
     "text": [
      "Train Loss: 0.3326 | Validation Loss: 0.3401\n",
      "Epoch 59/100\n",
      "Model is training on: cuda:0\n"
     ]
    },
    {
     "name": "stderr",
     "output_type": "stream",
     "text": [
      "100%|██████████| 320/320 [03:05<00:00,  1.72it/s]\n",
      "100%|██████████| 115/115 [01:07<00:00,  1.70it/s]\n"
     ]
    },
    {
     "name": "stdout",
     "output_type": "stream",
     "text": [
      "Train Loss: 0.3319 | Validation Loss: 0.3251\n",
      "Model saved!\n",
      "Epoch 60/100\n",
      "Model is training on: cuda:0\n"
     ]
    },
    {
     "name": "stderr",
     "output_type": "stream",
     "text": [
      "100%|██████████| 320/320 [03:10<00:00,  1.68it/s]\n",
      "100%|██████████| 115/115 [01:08<00:00,  1.67it/s]\n"
     ]
    },
    {
     "name": "stdout",
     "output_type": "stream",
     "text": [
      "Train Loss: 0.3310 | Validation Loss: 0.3272\n",
      "Epoch 61/100\n",
      "Model is training on: cuda:0\n"
     ]
    },
    {
     "name": "stderr",
     "output_type": "stream",
     "text": [
      "100%|██████████| 320/320 [03:11<00:00,  1.67it/s]\n",
      "100%|██████████| 115/115 [01:07<00:00,  1.70it/s]\n"
     ]
    },
    {
     "name": "stdout",
     "output_type": "stream",
     "text": [
      "Train Loss: 0.3302 | Validation Loss: 0.3225\n",
      "Model saved!\n",
      "Epoch 62/100\n",
      "Model is training on: cuda:0\n"
     ]
    },
    {
     "name": "stderr",
     "output_type": "stream",
     "text": [
      "100%|██████████| 320/320 [03:11<00:00,  1.67it/s]\n",
      "100%|██████████| 115/115 [01:08<00:00,  1.69it/s]\n"
     ]
    },
    {
     "name": "stdout",
     "output_type": "stream",
     "text": [
      "Train Loss: 0.3294 | Validation Loss: 0.3237\n",
      "Epoch 63/100\n",
      "Model is training on: cuda:0\n"
     ]
    },
    {
     "name": "stderr",
     "output_type": "stream",
     "text": [
      "100%|██████████| 320/320 [03:11<00:00,  1.67it/s]\n",
      "100%|██████████| 115/115 [01:07<00:00,  1.69it/s]\n"
     ]
    },
    {
     "name": "stdout",
     "output_type": "stream",
     "text": [
      "Train Loss: 0.3308 | Validation Loss: 0.3266\n",
      "Epoch 64/100\n",
      "Model is training on: cuda:0\n"
     ]
    },
    {
     "name": "stderr",
     "output_type": "stream",
     "text": [
      "100%|██████████| 320/320 [03:10<00:00,  1.68it/s]\n",
      "100%|██████████| 115/115 [01:07<00:00,  1.71it/s]\n"
     ]
    },
    {
     "name": "stdout",
     "output_type": "stream",
     "text": [
      "Train Loss: 0.3289 | Validation Loss: 0.3217\n",
      "Model saved!\n",
      "Epoch 65/100\n",
      "Model is training on: cuda:0\n"
     ]
    },
    {
     "name": "stderr",
     "output_type": "stream",
     "text": [
      "100%|██████████| 320/320 [03:07<00:00,  1.71it/s]\n",
      "100%|██████████| 115/115 [01:04<00:00,  1.77it/s]\n"
     ]
    },
    {
     "name": "stdout",
     "output_type": "stream",
     "text": [
      "Train Loss: 0.3263 | Validation Loss: 0.3228\n",
      "Epoch 66/100\n",
      "Model is training on: cuda:0\n"
     ]
    },
    {
     "name": "stderr",
     "output_type": "stream",
     "text": [
      "100%|██████████| 320/320 [03:11<00:00,  1.67it/s]\n",
      "100%|██████████| 115/115 [01:08<00:00,  1.69it/s]\n"
     ]
    },
    {
     "name": "stdout",
     "output_type": "stream",
     "text": [
      "Train Loss: 0.3308 | Validation Loss: 0.3218\n",
      "Epoch 67/100\n",
      "Model is training on: cuda:0\n"
     ]
    },
    {
     "name": "stderr",
     "output_type": "stream",
     "text": [
      "100%|██████████| 320/320 [03:12<00:00,  1.66it/s]\n",
      "100%|██████████| 115/115 [01:07<00:00,  1.70it/s]\n"
     ]
    },
    {
     "name": "stdout",
     "output_type": "stream",
     "text": [
      "Train Loss: 0.3263 | Validation Loss: 0.3221\n",
      "Epoch 68/100\n",
      "Model is training on: cuda:0\n"
     ]
    },
    {
     "name": "stderr",
     "output_type": "stream",
     "text": [
      "100%|██████████| 320/320 [03:11<00:00,  1.67it/s]\n",
      "100%|██████████| 115/115 [01:07<00:00,  1.71it/s]\n"
     ]
    },
    {
     "name": "stdout",
     "output_type": "stream",
     "text": [
      "Train Loss: 0.3274 | Validation Loss: 0.3253\n",
      "Epoch 69/100\n",
      "Model is training on: cuda:0\n"
     ]
    },
    {
     "name": "stderr",
     "output_type": "stream",
     "text": [
      "100%|██████████| 320/320 [03:07<00:00,  1.71it/s]\n",
      "100%|██████████| 115/115 [01:08<00:00,  1.67it/s]\n"
     ]
    },
    {
     "name": "stdout",
     "output_type": "stream",
     "text": [
      "Train Loss: 0.3285 | Validation Loss: 0.3259\n",
      "Epoch 70/100\n",
      "Model is training on: cuda:0\n"
     ]
    },
    {
     "name": "stderr",
     "output_type": "stream",
     "text": [
      "100%|██████████| 320/320 [03:07<00:00,  1.71it/s]\n",
      "100%|██████████| 115/115 [01:06<00:00,  1.72it/s]\n"
     ]
    },
    {
     "name": "stdout",
     "output_type": "stream",
     "text": [
      "Train Loss: 0.3263 | Validation Loss: 0.3190\n",
      "Model saved!\n",
      "Epoch 71/100\n",
      "Model is training on: cuda:0\n"
     ]
    },
    {
     "name": "stderr",
     "output_type": "stream",
     "text": [
      "100%|██████████| 320/320 [03:05<00:00,  1.73it/s]\n",
      "100%|██████████| 115/115 [01:05<00:00,  1.76it/s]\n"
     ]
    },
    {
     "name": "stdout",
     "output_type": "stream",
     "text": [
      "Train Loss: 0.3258 | Validation Loss: 0.3177\n",
      "Model saved!\n",
      "Epoch 72/100\n",
      "Model is training on: cuda:0\n"
     ]
    },
    {
     "name": "stderr",
     "output_type": "stream",
     "text": [
      "100%|██████████| 320/320 [03:03<00:00,  1.74it/s]\n",
      "100%|██████████| 115/115 [01:05<00:00,  1.75it/s]\n"
     ]
    },
    {
     "name": "stdout",
     "output_type": "stream",
     "text": [
      "Train Loss: 0.3260 | Validation Loss: 0.3185\n",
      "Epoch 73/100\n",
      "Model is training on: cuda:0\n"
     ]
    },
    {
     "name": "stderr",
     "output_type": "stream",
     "text": [
      "100%|██████████| 320/320 [03:03<00:00,  1.74it/s]\n",
      "100%|██████████| 115/115 [01:06<00:00,  1.72it/s]\n"
     ]
    },
    {
     "name": "stdout",
     "output_type": "stream",
     "text": [
      "Train Loss: 0.3248 | Validation Loss: 0.3247\n",
      "Epoch 74/100\n",
      "Model is training on: cuda:0\n"
     ]
    },
    {
     "name": "stderr",
     "output_type": "stream",
     "text": [
      "100%|██████████| 320/320 [03:03<00:00,  1.74it/s]\n",
      "100%|██████████| 115/115 [01:06<00:00,  1.74it/s]\n"
     ]
    },
    {
     "name": "stdout",
     "output_type": "stream",
     "text": [
      "Train Loss: 0.3236 | Validation Loss: 0.3169\n",
      "Model saved!\n",
      "Epoch 75/100\n",
      "Model is training on: cuda:0\n"
     ]
    },
    {
     "name": "stderr",
     "output_type": "stream",
     "text": [
      "100%|██████████| 320/320 [03:04<00:00,  1.74it/s]\n",
      "100%|██████████| 115/115 [01:05<00:00,  1.75it/s]\n"
     ]
    },
    {
     "name": "stdout",
     "output_type": "stream",
     "text": [
      "Train Loss: 0.3242 | Validation Loss: 0.3221\n",
      "Epoch 76/100\n",
      "Model is training on: cuda:0\n"
     ]
    },
    {
     "name": "stderr",
     "output_type": "stream",
     "text": [
      "100%|██████████| 320/320 [03:04<00:00,  1.73it/s]\n",
      "100%|██████████| 115/115 [01:05<00:00,  1.75it/s]\n"
     ]
    },
    {
     "name": "stdout",
     "output_type": "stream",
     "text": [
      "Train Loss: 0.3233 | Validation Loss: 0.3245\n",
      "Epoch 77/100\n",
      "Model is training on: cuda:0\n"
     ]
    },
    {
     "name": "stderr",
     "output_type": "stream",
     "text": [
      "100%|██████████| 320/320 [03:02<00:00,  1.75it/s]\n",
      "100%|██████████| 115/115 [01:05<00:00,  1.75it/s]\n"
     ]
    },
    {
     "name": "stdout",
     "output_type": "stream",
     "text": [
      "Train Loss: 0.3236 | Validation Loss: 0.3180\n",
      "Epoch 78/100\n",
      "Model is training on: cuda:0\n"
     ]
    },
    {
     "name": "stderr",
     "output_type": "stream",
     "text": [
      "100%|██████████| 320/320 [03:03<00:00,  1.74it/s]\n",
      "100%|██████████| 115/115 [01:06<00:00,  1.74it/s]\n"
     ]
    },
    {
     "name": "stdout",
     "output_type": "stream",
     "text": [
      "Train Loss: 0.3231 | Validation Loss: 0.3168\n",
      "Model saved!\n",
      "Epoch 79/100\n",
      "Model is training on: cuda:0\n"
     ]
    },
    {
     "name": "stderr",
     "output_type": "stream",
     "text": [
      "100%|██████████| 320/320 [03:04<00:00,  1.73it/s]\n",
      "100%|██████████| 115/115 [01:05<00:00,  1.75it/s]\n"
     ]
    },
    {
     "name": "stdout",
     "output_type": "stream",
     "text": [
      "Train Loss: 0.3239 | Validation Loss: 0.3425\n",
      "Epoch 80/100\n",
      "Model is training on: cuda:0\n"
     ]
    },
    {
     "name": "stderr",
     "output_type": "stream",
     "text": [
      "100%|██████████| 320/320 [03:04<00:00,  1.74it/s]\n",
      "100%|██████████| 115/115 [01:05<00:00,  1.75it/s]\n"
     ]
    },
    {
     "name": "stdout",
     "output_type": "stream",
     "text": [
      "Train Loss: 0.3208 | Validation Loss: 0.3150\n",
      "Model saved!\n",
      "Epoch 81/100\n",
      "Model is training on: cuda:0\n"
     ]
    },
    {
     "name": "stderr",
     "output_type": "stream",
     "text": [
      "100%|██████████| 320/320 [03:04<00:00,  1.74it/s]\n",
      "100%|██████████| 115/115 [01:05<00:00,  1.75it/s]\n"
     ]
    },
    {
     "name": "stdout",
     "output_type": "stream",
     "text": [
      "Train Loss: 0.3223 | Validation Loss: 0.3153\n",
      "Epoch 82/100\n",
      "Model is training on: cuda:0\n"
     ]
    },
    {
     "name": "stderr",
     "output_type": "stream",
     "text": [
      "100%|██████████| 320/320 [03:04<00:00,  1.73it/s]\n",
      "100%|██████████| 115/115 [01:06<00:00,  1.74it/s]\n"
     ]
    },
    {
     "name": "stdout",
     "output_type": "stream",
     "text": [
      "Train Loss: 0.3225 | Validation Loss: 0.3146\n",
      "Model saved!\n",
      "Epoch 83/100\n",
      "Model is training on: cuda:0\n"
     ]
    },
    {
     "name": "stderr",
     "output_type": "stream",
     "text": [
      "100%|██████████| 320/320 [03:04<00:00,  1.74it/s]\n",
      "100%|██████████| 115/115 [01:05<00:00,  1.74it/s]\n"
     ]
    },
    {
     "name": "stdout",
     "output_type": "stream",
     "text": [
      "Train Loss: 0.3207 | Validation Loss: 0.3178\n",
      "Epoch 84/100\n",
      "Model is training on: cuda:0\n"
     ]
    },
    {
     "name": "stderr",
     "output_type": "stream",
     "text": [
      "100%|██████████| 320/320 [03:03<00:00,  1.74it/s]\n",
      "100%|██████████| 115/115 [01:05<00:00,  1.75it/s]\n"
     ]
    },
    {
     "name": "stdout",
     "output_type": "stream",
     "text": [
      "Train Loss: 0.3205 | Validation Loss: 0.3139\n",
      "Model saved!\n",
      "Epoch 85/100\n",
      "Model is training on: cuda:0\n"
     ]
    },
    {
     "name": "stderr",
     "output_type": "stream",
     "text": [
      "100%|██████████| 320/320 [03:04<00:00,  1.74it/s]\n",
      "100%|██████████| 115/115 [01:05<00:00,  1.74it/s]\n"
     ]
    },
    {
     "name": "stdout",
     "output_type": "stream",
     "text": [
      "Train Loss: 0.3201 | Validation Loss: 0.3197\n",
      "Epoch 86/100\n",
      "Model is training on: cuda:0\n"
     ]
    },
    {
     "name": "stderr",
     "output_type": "stream",
     "text": [
      "100%|██████████| 320/320 [03:03<00:00,  1.74it/s]\n",
      "100%|██████████| 115/115 [01:06<00:00,  1.74it/s]\n"
     ]
    },
    {
     "name": "stdout",
     "output_type": "stream",
     "text": [
      "Train Loss: 0.3224 | Validation Loss: 0.3147\n",
      "Epoch 87/100\n",
      "Model is training on: cuda:0\n"
     ]
    },
    {
     "name": "stderr",
     "output_type": "stream",
     "text": [
      "100%|██████████| 320/320 [03:03<00:00,  1.74it/s]\n",
      "100%|██████████| 115/115 [01:05<00:00,  1.75it/s]\n"
     ]
    },
    {
     "name": "stdout",
     "output_type": "stream",
     "text": [
      "Train Loss: 0.3207 | Validation Loss: 0.3121\n",
      "Model saved!\n",
      "Epoch 88/100\n",
      "Model is training on: cuda:0\n"
     ]
    },
    {
     "name": "stderr",
     "output_type": "stream",
     "text": [
      "100%|██████████| 320/320 [03:04<00:00,  1.73it/s]\n",
      "100%|██████████| 115/115 [01:06<00:00,  1.74it/s]\n"
     ]
    },
    {
     "name": "stdout",
     "output_type": "stream",
     "text": [
      "Train Loss: 0.3196 | Validation Loss: 0.3147\n",
      "Epoch 89/100\n",
      "Model is training on: cuda:0\n"
     ]
    },
    {
     "name": "stderr",
     "output_type": "stream",
     "text": [
      "100%|██████████| 320/320 [03:03<00:00,  1.74it/s]\n",
      "100%|██████████| 115/115 [01:06<00:00,  1.73it/s]\n"
     ]
    },
    {
     "name": "stdout",
     "output_type": "stream",
     "text": [
      "Train Loss: 0.3193 | Validation Loss: 0.3239\n",
      "Epoch 90/100\n",
      "Model is training on: cuda:0\n"
     ]
    },
    {
     "name": "stderr",
     "output_type": "stream",
     "text": [
      "100%|██████████| 320/320 [03:03<00:00,  1.75it/s]\n",
      "100%|██████████| 115/115 [01:05<00:00,  1.75it/s]\n"
     ]
    },
    {
     "name": "stdout",
     "output_type": "stream",
     "text": [
      "Train Loss: 0.3176 | Validation Loss: 0.3189\n",
      "Epoch 91/100\n",
      "Model is training on: cuda:0\n"
     ]
    },
    {
     "name": "stderr",
     "output_type": "stream",
     "text": [
      "100%|██████████| 320/320 [03:04<00:00,  1.74it/s]\n",
      "100%|██████████| 115/115 [01:06<00:00,  1.74it/s]\n"
     ]
    },
    {
     "name": "stdout",
     "output_type": "stream",
     "text": [
      "Train Loss: 0.3187 | Validation Loss: 0.3122\n",
      "Epoch 92/100\n",
      "Model is training on: cuda:0\n"
     ]
    },
    {
     "name": "stderr",
     "output_type": "stream",
     "text": [
      "100%|██████████| 320/320 [03:03<00:00,  1.74it/s]\n",
      "100%|██████████| 115/115 [01:05<00:00,  1.75it/s]\n"
     ]
    },
    {
     "name": "stdout",
     "output_type": "stream",
     "text": [
      "Train Loss: 0.3181 | Validation Loss: 0.3146\n",
      "Epoch 93/100\n",
      "Model is training on: cuda:0\n"
     ]
    },
    {
     "name": "stderr",
     "output_type": "stream",
     "text": [
      "100%|██████████| 320/320 [03:03<00:00,  1.75it/s]\n",
      "100%|██████████| 115/115 [01:05<00:00,  1.76it/s]\n"
     ]
    },
    {
     "name": "stdout",
     "output_type": "stream",
     "text": [
      "Train Loss: 0.3176 | Validation Loss: 0.3187\n",
      "Epoch 94/100\n",
      "Model is training on: cuda:0\n"
     ]
    },
    {
     "name": "stderr",
     "output_type": "stream",
     "text": [
      "100%|██████████| 320/320 [03:01<00:00,  1.76it/s]\n",
      "100%|██████████| 115/115 [01:05<00:00,  1.76it/s]\n"
     ]
    },
    {
     "name": "stdout",
     "output_type": "stream",
     "text": [
      "Train Loss: 0.3173 | Validation Loss: 0.3140\n",
      "Epoch 95/100\n",
      "Model is training on: cuda:0\n"
     ]
    },
    {
     "name": "stderr",
     "output_type": "stream",
     "text": [
      "100%|██████████| 320/320 [03:03<00:00,  1.74it/s]\n",
      "100%|██████████| 115/115 [01:05<00:00,  1.75it/s]\n"
     ]
    },
    {
     "name": "stdout",
     "output_type": "stream",
     "text": [
      "Train Loss: 0.3170 | Validation Loss: 0.3164\n",
      "Epoch 96/100\n",
      "Model is training on: cuda:0\n"
     ]
    },
    {
     "name": "stderr",
     "output_type": "stream",
     "text": [
      "100%|██████████| 320/320 [03:04<00:00,  1.74it/s]\n",
      "100%|██████████| 115/115 [01:05<00:00,  1.75it/s]\n"
     ]
    },
    {
     "name": "stdout",
     "output_type": "stream",
     "text": [
      "Train Loss: 0.3168 | Validation Loss: 0.3186\n",
      "Epoch 97/100\n",
      "Model is training on: cuda:0\n"
     ]
    },
    {
     "name": "stderr",
     "output_type": "stream",
     "text": [
      "100%|██████████| 320/320 [03:03<00:00,  1.74it/s]\n",
      "100%|██████████| 115/115 [01:05<00:00,  1.75it/s]\n"
     ]
    },
    {
     "name": "stdout",
     "output_type": "stream",
     "text": [
      "Train Loss: 0.3152 | Validation Loss: 0.3084\n",
      "Model saved!\n",
      "Epoch 98/100\n",
      "Model is training on: cuda:0\n"
     ]
    },
    {
     "name": "stderr",
     "output_type": "stream",
     "text": [
      "100%|██████████| 320/320 [03:02<00:00,  1.75it/s]\n",
      "100%|██████████| 115/115 [01:05<00:00,  1.76it/s]\n"
     ]
    },
    {
     "name": "stdout",
     "output_type": "stream",
     "text": [
      "Train Loss: 0.3158 | Validation Loss: 0.3159\n",
      "Epoch 99/100\n",
      "Model is training on: cuda:0\n"
     ]
    },
    {
     "name": "stderr",
     "output_type": "stream",
     "text": [
      "100%|██████████| 320/320 [03:02<00:00,  1.76it/s]\n",
      "100%|██████████| 115/115 [01:05<00:00,  1.75it/s]\n"
     ]
    },
    {
     "name": "stdout",
     "output_type": "stream",
     "text": [
      "Train Loss: 0.3189 | Validation Loss: 0.3109\n",
      "Epoch 100/100\n",
      "Model is training on: cuda:0\n"
     ]
    },
    {
     "name": "stderr",
     "output_type": "stream",
     "text": [
      "100%|██████████| 320/320 [03:03<00:00,  1.75it/s]\n",
      "100%|██████████| 115/115 [01:06<00:00,  1.74it/s]"
     ]
    },
    {
     "name": "stdout",
     "output_type": "stream",
     "text": [
      "Train Loss: 0.3151 | Validation Loss: 0.3221\n"
     ]
    },
    {
     "name": "stderr",
     "output_type": "stream",
     "text": [
      "\n"
     ]
    }
   ],
   "source": [
    "model = FSRCNN().to(device)\n",
    "\n",
    "learning_rate = 0.0001\n",
    "criterion = nn.L1Loss().to(device)\n",
    "optimizer = optim.Adam(model.parameters(), lr=learning_rate,weight_decay=1e-4)\n",
    "\n",
    "num_epochs = 100\n",
    "best_loss = float('inf')\n",
    "\n",
    "\n",
    "for epoch in range(num_epochs):\n",
    "    print(f'Epoch {epoch+1}/{num_epochs}')\n",
    "    print(f'Model is training on: {next(model.parameters()).device}')\n",
    "    train_loss = train_model(model, dataloader_train, criterion, optimizer, device)\n",
    "    val_loss = validate_model(model, dataloader_val, criterion, device)\n",
    "    print(f'Train Loss: {train_loss:.4f} | Validation Loss: {val_loss:.4f}')\n",
    "    \n",
    "    if val_loss < best_loss:\n",
    "        best_loss = val_loss\n",
    "        torch.save(model.state_dict(), 'G:/16_ECMWF/13_DL_modle/1_climate_520_400/13_pet/FSRCNN_pet.pth')\n",
    "        print('Model saved!')\n"
   ]
  },
  {
   "cell_type": "code",
   "execution_count": 8,
   "id": "b88ee071-b5a5-455f-a6e2-97f7cd764009",
   "metadata": {},
   "outputs": [
    {
     "name": "stderr",
     "output_type": "stream",
     "text": [
      "C:\\Users\\Administrator\\AppData\\Local\\Temp\\ipykernel_5820\\1164464472.py:2: FutureWarning: You are using `torch.load` with `weights_only=False` (the current default value), which uses the default pickle module implicitly. It is possible to construct malicious pickle data which will execute arbitrary code during unpickling (See https://github.com/pytorch/pytorch/blob/main/SECURITY.md#untrusted-models for more details). In a future release, the default value for `weights_only` will be flipped to `True`. This limits the functions that could be executed during unpickling. Arbitrary objects will no longer be allowed to be loaded via this mode unless they are explicitly allowlisted by the user via `torch.serialization.add_safe_globals`. We recommend you start setting `weights_only=True` for any use case where you don't have full control of the loaded file. Please open an issue on GitHub for any issues related to this experimental feature.\n",
      "  model.load_state_dict(torch.load('G:/16_ECMWF/13_DL_modle/1_climate_520_400/13_pet/FSRCNN_pet.pth'))\n"
     ]
    },
    {
     "name": "stdout",
     "output_type": "stream",
     "text": [
      "torch.Size([1, 1, 40, 52])\n",
      "torch.Size([1, 9, 40, 52])\n"
     ]
    },
    {
     "data": {
      "image/png": "[encoded data removed]",
      "text/plain": [
       "<Figure size 1500x500 with 3 Axes>"
      ]
     },
     "metadata": {},
     "output_type": "display_data"
    }
   ],
   "source": [
    "model = FSRCNN().to(device)\n",
    "model.load_state_dict(torch.load('G:/16_ECMWF/13_DL_modle/1_climate_520_400/13_pet/FSRCNN_pet.pth'))\n",
    "model.eval()  # 设置为评估模式\n",
    "\n",
    "eva_image_path = 'D:/7_climate_10_520_400/12_PET/2020/PET_2020_07_01.tif'\n",
    "tem_image_path = 'F:/3_climate_100_52_40/1_tem/2020/tem_2020_07_01.tif'\n",
    "tem_min_image_path = 'F:/3_climate_100_52_40/3_tem_min/2020/tem_min_2020_07_01.tif'\n",
    "tem_max_image_path = 'F:/3_climate_100_52_40/2_tem_max/2020/tem_max_2020_07_01.tif'\n",
    "pr_image_path = 'F:/3_climate_100_52_40/7_tol_per/2020/per_2020_07_01.tif'\n",
    "wind_image_path = 'F:/3_climate_100_52_40/4_wind_u/2020/wind_2020_07_01.tif'\n",
    "ps_image_path = 'F:/3_climate_100_52_40/6_ps/2020/ps_2020_07_01.tif'\n",
    "solar_image_path = 'F:/3_climate_100_52_40/8_solar_rad/2020/solar_rad_2020_07_01.tif'\n",
    "ther_image_path = 'F:/3_climate_100_52_40/9_ther_rad/2020/ther_rad_2020_07_01.tif'\n",
    "rh_image_path = 'F:/3_climate_100_52_40/11_rh/2020/rh_2020_07_01.tif'\n",
    "\n",
    "eva_image = load_tiff_with_rasterio(eva_image_path)\n",
    "tem_image = load_tiff_with_rasterio(tem_image_path)\n",
    "tem_min_image = load_tiff_with_rasterio(tem_min_image_path)\n",
    "tem_max_image = load_tiff_with_rasterio(tem_max_image_path)\n",
    "pr_image = load_tiff_with_rasterio(pr_image_path)\n",
    "pr_image = pr_image*1000\n",
    "wind_image = load_tiff_with_rasterio(wind_image_path)\n",
    "ps_image = load_tiff_with_rasterio(ps_image_path)\n",
    "ps_image = ps_image/1000\n",
    "solar_image = load_tiff_with_rasterio(solar_image_path)\n",
    "solar_image = solar_image/86400\n",
    "ther_image = load_tiff_with_rasterio(ther_image_path)\n",
    "ther_image = ther_image/86400\n",
    "rh_image = load_tiff_with_rasterio(rh_image_path)\n",
    "\n",
    "transform = transforms.ToTensor()\n",
    "tem_tensor = transform(tem_image).unsqueeze(0)\n",
    "tem_min_tensor = transform(tem_min_image).unsqueeze(0)\n",
    "tem_max_tensor = transform(tem_max_image).unsqueeze(0)\n",
    "pr_tensor = transform(pr_image).unsqueeze(0)\n",
    "wind_tensor = transform(wind_image).unsqueeze(0)\n",
    "ps_tensor = transform(ps_image).unsqueeze(0)\n",
    "solar_tensor = transform(solar_image).unsqueeze(0)\n",
    "ther_tensor = transform(ther_image).unsqueeze(0)\n",
    "rh_tensor = transform(rh_image).unsqueeze(0)\n",
    "print(ther_tensor.shape)\n",
    "lr_tensor= torch.cat([tem_tensor,tem_min_tensor,tem_max_tensor,pr_tensor,wind_tensor,ps_tensor,solar_tensor,ther_tensor,rh_tensor],dim=1)\n",
    "print(lr_tensor.shape)\n",
    "lr_tensor = lr_tensor.float().to(device)\n",
    "\n",
    "vmin = eva_image[mask].min()\n",
    "vmax = eva_image[mask].max()\n",
    "\n",
    "model.to(device)\n",
    "with torch.no_grad():\n",
    "    sr_tensor = model(lr_tensor)\n",
    "sr_image = sr_tensor.squeeze().cpu().numpy()\n",
    "\n",
    "def plot_images(lr_image, hr_image, sr_image):\n",
    "\n",
    "\n",
    "    plt.figure(figsize=(15, 5))\n",
    "    \n",
    "    plt.subplot(1, 3, 1)\n",
    "    plt.imshow(lr_image, cmap='hsv_r', vmin=vmin, vmax=vmax)  # 限制值范围在240-300\n",
    "    plt.title('Low Resolution Image')\n",
    "    plt.axis('off')\n",
    "\n",
    "    plt.subplot(1, 3, 2)\n",
    "    plt.imshow(hr_image, cmap='hsv_r', vmin=vmin, vmax=vmax)  # 限制值范围在240-300\n",
    "    plt.title('High Resolution Image')\n",
    "    plt.axis('off')\n",
    "\n",
    "    plt.subplot(1, 3, 3)\n",
    "    plt.imshow(sr_image, cmap='hsv_r', vmin=vmin, vmax=vmax)  # 限制值范围在240-300\n",
    "    plt.title('Super Resolved Image')\n",
    "    plt.axis('off')\n",
    "\n",
    "    plt.show()\n",
    "plot_images(eva_image, eva_image, sr_image)"
   ]
  },
  {
   "cell_type": "code",
   "execution_count": 9,
   "id": "e28e285d-f178-4475-a00d-00b6064dda16",
   "metadata": {
    "scrolled": true
   },
   "outputs": [
    {
     "name": "stdout",
     "output_type": "stream",
     "text": [
      "2000\n",
      "2001\n",
      "2002\n",
      "2003\n",
      "2004\n",
      "2005\n",
      "2006\n",
      "2007\n",
      "2008\n",
      "2009\n",
      "2010\n",
      "2011\n",
      "2012\n",
      "2013\n",
      "2014\n",
      "2015\n",
      "2016\n",
      "2017\n",
      "2018\n",
      "2019\n",
      "2020\n",
      "2021\n",
      "2022\n",
      "2023\n"
     ]
    }
   ],
   "source": [
    "with rasterio.open(eva_image_path) as src:\n",
    "    # 获取原始图像的地理信息（仿射变换矩阵和投影坐标系）\n",
    "    transform = src.transform\n",
    "    crs = src.crs\n",
    "    profile = src.profile\n",
    "profile.update(\n",
    "    dtype=rasterio.float32,   # 数据类型为 float32\n",
    "    count=1,                  # 1 个波段\n",
    "    height=sr_image.shape[0], # 高度\n",
    "    width=sr_image.shape[1],  # 宽度\n",
    "    transform=transform        # 保持原始的地理变换信息\n",
    ")\n",
    "\n",
    "year = list(range(2000, 2024))\n",
    "model.to(device)\n",
    "transform = transforms.ToTensor()\n",
    "for a_index, a in enumerate(year):\n",
    "    start_date = f'{a}-01-01'\n",
    "    end_date = f'{a}-12-31'\n",
    "    date_range = pd.date_range(start=start_date, end=end_date)\n",
    "    print(a)\n",
    "    for b_index, b in enumerate(date_range):\n",
    "        day_index = b_index\n",
    "        date_day = date_range[day_index]\n",
    "        date_day_year = date_day.year\n",
    "        date_day_month = date_day.month\n",
    "        date_day_day = date_day.day\n",
    "        tem_path = f'F:/3_climate_100_52_40/1_tem/{a}/tem_{date_day_year}_{date_day_month:02d}_{date_day_day:02d}.tif'\n",
    "        tem_min_path = f'F:/3_climate_100_52_40/3_tem_min/{a}/tem_min_{date_day_year}_{date_day_month:02d}_{date_day_day:02d}.tif'\n",
    "        tem_max_path = f'F:/3_climate_100_52_40/2_tem_max/{a}/tem_max_{date_day_year}_{date_day_month:02d}_{date_day_day:02d}.tif'\n",
    "        pr_path = f'F:/3_climate_100_52_40/7_tol_per/{a}/per_{date_day_year}_{date_day_month:02d}_{date_day_day:02d}.tif'\n",
    "        wind_path = f'F:/3_climate_100_52_40/4_wind_u/{a}/wind_{date_day_year}_{date_day_month:02d}_{date_day_day:02d}.tif'\n",
    "        ps_path = f'F:/3_climate_100_52_40/6_ps/{a}/ps_{date_day_year}_{date_day_month:02d}_{date_day_day:02d}.tif'\n",
    "        solar_path = f'F:/3_climate_100_52_40/8_solar_rad/{a}/solar_rad_{date_day_year}_{date_day_month:02d}_{date_day_day:02d}.tif'\n",
    "        ther_path = f'F:/3_climate_100_52_40/9_ther_rad/{a}/ther_rad_{date_day_year}_{date_day_month:02d}_{date_day_day:02d}.tif'\n",
    "        rh_path = f'F:/3_climate_100_52_40/11_rh/{a}/rh_{date_day_year}_{date_day_month:02d}_{date_day_day:02d}.tif'\n",
    "        \n",
    "        output_path = f'J:/3_climate_output/1_climate_520_400/4_FSRCNN/12_pet/{a}/pet_{date_day_year}_{date_day_month:02d}_{date_day_day:02d}.tif'\n",
    "        \n",
    "        tem_image = load_tiff_with_rasterio(tem_path)\n",
    "        tem_tensor = transform(tem_image).unsqueeze(0) \n",
    "        tem_tensor = tem_tensor.float().to(device)\n",
    "        \n",
    "        tem_min_image = load_tiff_with_rasterio(tem_min_path)\n",
    "        tem_min_tensor = transform(tem_min_image).unsqueeze(0) \n",
    "        tem_min_tensor = tem_min_tensor.float().to(device)\n",
    "\n",
    "        tem_max_image = load_tiff_with_rasterio(tem_max_path)\n",
    "        tem_max_tensor = transform(tem_max_image).unsqueeze(0) \n",
    "        tem_max_tensor = tem_max_tensor.float().to(device)\n",
    "\n",
    "        pr_image = load_tiff_with_rasterio(pr_path)\n",
    "        pr_image = pr_image*1000\n",
    "        pr_tensor = transform(pr_image).unsqueeze(0) \n",
    "        pr_tensor = pr_tensor.float().to(device)\n",
    "\n",
    "        ps_image = load_tiff_with_rasterio(ps_path)\n",
    "        ps_image = ps_image/1000\n",
    "        ps_tensor = transform(ps_image).unsqueeze(0) \n",
    "        ps_tensor = ps_tensor.float().to(device)\n",
    "\n",
    "        wind_image = load_tiff_with_rasterio(wind_path)\n",
    "        wind_tensor = transform(wind_image).unsqueeze(0) \n",
    "        wind_tensor = wind_tensor.float().to(device)\n",
    "\n",
    "        solar_image = load_tiff_with_rasterio(solar_path)\n",
    "        solar_image = solar_image/86400\n",
    "        solar_tensor = transform(solar_image).unsqueeze(0) \n",
    "        solar_tensor = solar_tensor.float().to(device)\n",
    "\n",
    "        ther_image = load_tiff_with_rasterio(ther_path)\n",
    "        ther_image = ther_image/86400\n",
    "        ther_tensor = transform(ther_image).unsqueeze(0) \n",
    "        ther_tensor = ther_tensor.float().to(device)\n",
    "\n",
    "        rh_image = load_tiff_with_rasterio(rh_path)\n",
    "        rh_tensor = transform(rh_image).unsqueeze(0) \n",
    "        rh_tensor = rh_tensor.float().to(device)\n",
    "\n",
    "        lr_tensor = torch.cat([tem_tensor,tem_min_tensor,tem_max_tensor,pr_tensor,wind_tensor,ps_tensor,solar_tensor,ther_tensor,rh_tensor],dim=1)\n",
    "        \n",
    "        with torch.no_grad():\n",
    "            sr_tensor = model(lr_tensor)\n",
    "        sr_image = sr_tensor.squeeze().cpu().numpy()\n",
    "        \n",
    "        with rasterio.open(output_path, 'w', **profile) as dst:\n",
    "            dst.write(sr_image.astype(rasterio.float32), 1)  # 将 sr_image 写入为第一个波段"
   ]
  },
  {
   "cell_type": "code",
   "execution_count": null,
   "id": "8507f060-e93d-4d76-9641-3460782be9b1",
   "metadata": {},
   "outputs": [],
   "source": []
  },
  {
   "cell_type": "code",
   "execution_count": null,
   "id": "a7596108-37cf-4285-b900-0ba6f13b891a",
   "metadata": {},
   "outputs": [],
   "source": []
  }
 ],
 "metadata": {
  "kernelspec": {
   "display_name": "Python 3 (ipykernel)",
   "language": "python",
   "name": "python3"
  },
  "language_info": {
   "codemirror_mode": {
    "name": "ipython",
    "version": 3
   },
   "file_extension": ".py",
   "mimetype": "text/x-python",
   "name": "python",
   "nbconvert_exporter": "python",
   "pygments_lexer": "ipython3",
   "version": "3.9.20"
  }
 },
 "nbformat": 4,
 "nbformat_minor": 5
}
